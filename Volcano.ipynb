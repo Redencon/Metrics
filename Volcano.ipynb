{
 "cells": [
  {
   "cell_type": "code",
   "execution_count": 4,
   "id": "85213b0a",
   "metadata": {},
   "outputs": [],
   "source": [
    "import pandas as pd\n",
    "from os import path, listdir, mkdir\n",
    "import matplotlib.pyplot as plt\n",
    "import numpy as np\n",
    "from scipy.stats import iqr\n",
    "import seaborn as sns\n",
    "sns.set(rc={'figure.facecolor':'white'})\n",
    "sns.set(style = 'whitegrid')"
   ]
  },
  {
   "cell_type": "code",
   "execution_count": 5,
   "id": "09046488",
   "metadata": {},
   "outputs": [],
   "source": [
    "def volcano(plt_dir, data_dir, data_name, \n",
    "            method, begin_pattern = 'NSAF_t-test', end_pattern = None, alpha = 0.05, fold_change = 2):   \n",
    "    \n",
    "    if method not in ['semi-dynamic', 'static', 'dynamic']:\n",
    "        print('Error: check method')\n",
    "        return\n",
    "    if path.exists(data_dir) == False:\n",
    "        print('Error: {} not exist'.format(data_dir))\n",
    "        return\n",
    "    \n",
    "    output = path.join(plt_dir, data_name) \n",
    "    if path.exists(output) == False:\n",
    "        mkdir(output)\n",
    "       \n",
    "    for rf in listdir(data_dir):    \n",
    "        if rf.startswith(begin_pattern) and '.string.enrichment.tsv' not in rf and '.string.enrichment_targets_in_terms.csv' not in rf and 'clusters' not in rf:\n",
    "            input_file = path.join(data_dir, rf)\n",
    "\n",
    "            strain = rf.split(begin_pattern)[1].split(end_pattern)[0]\n",
    "            print(strain)\n",
    "\n",
    "            d = pd.read_csv(input_file, delimiter = '\\t', header = 0)\n",
    "            b = np.quantile(d['-log10(fdr_BH)'], 0.75) + 1.5*iqr(d['-log10(fdr_BH)'])\n",
    "            dyn = 10**(-b)\n",
    "\n",
    "            if method == 'dynamic':\n",
    "                th = b\n",
    "                up_fold = np.quantile(d['log2(fold_change)'], 0.75) + 1.5*iqr(d['log2(fold_change)'])\n",
    "                down_fold = np.quantile(d['log2(fold_change)'], 0.25) - 1.5*iqr(d['log2(fold_change)'])\n",
    "                print(round(up_fold, 3), round(down_fold, 3))\n",
    "                add_name = '_dynamic'\n",
    "            elif method == 'semi-dynamic': \n",
    "                th = b\n",
    "                up_fold = np.log2(fold_change)\n",
    "                down_fold = np.log2(1/fold_change)\n",
    "                add_name = '_semi-dynamic'\n",
    "            elif method == 'static':\n",
    "                th = -np.log10(alpha)\n",
    "                up_fold = np.log2(fold_change)\n",
    "                down_fold = np.log2(1/fold_change)\n",
    "                add_name = '_static'\n",
    "\n",
    "            up = d[['-log10(fdr_BH)','log2(fold_change)']][(d['-log10(fdr_BH)'] > th)\n",
    "                                                                        &(d['log2(fold_change)'] >= up_fold)]\n",
    "            down = d[['-log10(fdr_BH)','log2(fold_change)']][(d['-log10(fdr_BH)'] > th)\n",
    "                                                                        &(d['log2(fold_change)'] < down_fold)]\n",
    "            marg = d[['-log10(fdr_BH)','log2(fold_change)']][(d['-log10(fdr_BH)'] > th)\n",
    "                                                                        &(abs(d['log2(fold_change)']) < up_fold)]\n",
    "            #диаграмма рассеяния\n",
    "\n",
    "            y_lim = np.max(d['-log10(fdr_BH)']) + 5\n",
    "            g = sns.JointGrid(x = 'log2(fold_change)', y = '-log10(fdr_BH)', \n",
    "                              data = d, ylim = (-0.25, y_lim), height = 8)\n",
    "\n",
    "            g.plot_joint(sns.scatterplot, color = 'green', s = 10, label = '%s' % strain)     \n",
    "            \n",
    "            #вертикальные пороги\n",
    "            g.ax_joint.plot([up_fold]*len(np.arange(-0.1, y_lim, 0.1)), np.arange(-0.1, y_lim, 0.1), color = \"grey\", \n",
    "                            label = 'f_c up = %.3f' % 2**(up_fold))\n",
    "            g.ax_joint.plot([down_fold]*len(np.arange(-0.1, y_lim, 0.1)), np.arange(-0.1, y_lim, 0.1), color = \"grey\", \n",
    "                            label = 'f_c down = %.3f' % 2**(down_fold))\n",
    "            #boxplot\n",
    "            g.plot_marginals(sns.boxplot, linewidth = 0.5, fliersize = 3)\n",
    "\n",
    "            #горизонтальная линия с оптимизированным порогом\n",
    "            g.ax_joint.plot(d['log2(fold_change)'], [b]*len(d['log2(fold_change)']), color = \"black\", linestyle = ':',\n",
    "                label = 'fdr = %.5f' % dyn)\n",
    "\n",
    "            #горизонтальная линия с alpha = 0.05 (default)\n",
    "            g.ax_joint.plot(d['log2(fold_change)'], [-np.log10(alpha)]*len(d['log2(fold_change)']), color = \"red\", \n",
    "                             linestyle = ':', label = 'fdr = %g' % alpha)\n",
    "           \n",
    "            g.ax_joint.set_xlabel('log2(fold_change)', fontsize = 12)\n",
    "            g.ax_joint.set_ylabel('-log10(fdr_BH)', fontsize = 12)\n",
    "            g.ax_joint.tick_params(axis = 'both', labelsize = 12)\n",
    "   \n",
    "            legendMain = g.ax_joint.legend(loc = 'upper left', fontsize = 12)\n",
    "\n",
    "            plt.text(x = 0.7, y = 0.9,s = 'up = {}\\ndown = {}\\nDE = {}'.format(up.shape[0], down.shape[0], \n",
    "                                                                            up.shape[0] + down.shape[0]), \n",
    "                horizontalalignment = 'left', \n",
    "                verticalalignment = 'top', \n",
    "                transform  = g.ax_joint.transAxes, fontsize = 12)\n",
    "            \n",
    "            plt.savefig(path.join(output, 'volcano_{}_{}{}.png'.format(data_name, strain, add_name)), dpi = 300)\n",
    "            plt.close()\n",
    "            \n"
   ]
  },
  {
   "cell_type": "code",
   "execution_count": 6,
   "id": "6d0165d3",
   "metadata": {},
   "outputs": [
    {
     "name": "stdout",
     "output_type": "stream",
     "text": [
      "Leaves_US_Roots_US\n"
     ]
    }
   ],
   "source": [
    "volcano(plt_dir = '/home/kae-13-1/plants',\n",
    "        data_dir =  '/home/kae-13-1/plants', \n",
    "        data_name = 'plants_US', method = 'static', alpha = 0.05, fold_change = 1.5, \n",
    "        begin_pattern = 'ms1diffacto_out_', end_pattern = '_sum_each_run.txt')"
   ]
  }
 ],
 "metadata": {
  "kernelspec": {
   "display_name": "Python 3 (ipykernel)",
   "language": "python",
   "name": "python3"
  },
  "language_info": {
   "codemirror_mode": {
    "name": "ipython",
    "version": 3
   },
   "file_extension": ".py",
   "mimetype": "text/x-python",
   "name": "python",
   "nbconvert_exporter": "python",
   "pygments_lexer": "ipython3",
   "version": "3.10.4"
  }
 },
 "nbformat": 4,
 "nbformat_minor": 5
}
